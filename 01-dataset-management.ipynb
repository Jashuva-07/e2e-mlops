{
 "cells": [
  {
   "cell_type": "markdown",
   "id": "e8ba7f4f",
   "metadata": {},
   "source": [
    "# 01 - Data Analysis and Preparation\n",
    "\n",
    "This notebook covers the following tasks:\n",
    "\n",
    "1. Perform exploratory data analysis and visualization.\n",
    "2. Prepare the data for the ML task in BigQuery.\n",
    "3. Generate and fix a ` TFDV schema` for the source data.\n",
    "4. Create a `Vertex Dataset resource` dataset.\n"
   ]
  },
  {
   "cell_type": "markdown",
   "id": "b481a247",
   "metadata": {},
   "source": [
    "## Dataset\n",
    "\n",
    "The [Chicago Taxi Trips](https://pantheon.corp.google.com/marketplace/details/city-of-chicago-public-data/chicago-taxi-trips) dataset is one of [public datasets hosted with BigQuery](https://cloud.google.com/bigquery/public-data/), which includes taxi trips from 2013 to the present, reported to the City of Chicago in its role as a regulatory agency. The `taxi_trips` table size is 70.72 GB and includes more than 195 million records. The dataset includes information about the trips, like pickup and dropoff datetime and location, passengers count, miles travelled, and trip toll. \n",
    "\n",
    "The ML task is to predict whether a given trip will result in a tip > 20%."
   ]
  },
  {
   "cell_type": "markdown",
   "id": "4fedd0ac",
   "metadata": {},
   "source": [
    "## Setup"
   ]
  },
  {
   "cell_type": "markdown",
   "id": "b25967c9",
   "metadata": {},
   "source": [
    "### Import libraries"
   ]
  },
  {
   "cell_type": "code",
   "execution_count": 1,
   "id": "fa2cf3f1",
   "metadata": {
    "tags": []
   },
   "outputs": [
    {
     "name": "stderr",
     "output_type": "stream",
     "text": [
      "2024-06-24 15:14:40.261455: I external/local_tsl/tsl/cuda/cudart_stub.cc:31] Could not find cuda drivers on your machine, GPU will not be used.\n",
      "2024-06-24 15:14:40.316677: E external/local_xla/xla/stream_executor/cuda/cuda_dnn.cc:9261] Unable to register cuDNN factory: Attempting to register factory for plugin cuDNN when one has already been registered\n",
      "2024-06-24 15:14:40.316737: E external/local_xla/xla/stream_executor/cuda/cuda_fft.cc:607] Unable to register cuFFT factory: Attempting to register factory for plugin cuFFT when one has already been registered\n",
      "2024-06-24 15:14:40.318282: E external/local_xla/xla/stream_executor/cuda/cuda_blas.cc:1515] Unable to register cuBLAS factory: Attempting to register factory for plugin cuBLAS when one has already been registered\n",
      "2024-06-24 15:14:40.327246: I external/local_tsl/tsl/cuda/cudart_stub.cc:31] Could not find cuda drivers on your machine, GPU will not be used.\n",
      "2024-06-24 15:14:40.328237: I tensorflow/core/platform/cpu_feature_guard.cc:182] This TensorFlow binary is optimized to use available CPU instructions in performance-critical operations.\n",
      "To enable the following instructions: AVX2 FMA, in other operations, rebuild TensorFlow with the appropriate compiler flags.\n",
      "2024-06-24 15:14:41.636413: W tensorflow/compiler/tf2tensorrt/utils/py_utils.cc:38] TF-TRT Warning: Could not find TensorRT\n"
     ]
    }
   ],
   "source": [
    "import os\n",
    "import pandas as pd\n",
    "import tensorflow as tf\n",
    "import tensorflow_data_validation as tfdv\n",
    "from google.cloud import bigquery\n",
    "import matplotlib.pyplot as plt\n",
    "\n",
    "from google.cloud import aiplatform as vertex_ai"
   ]
  },
  {
   "cell_type": "markdown",
   "id": "9bd0ee37",
   "metadata": {},
   "source": [
    "### Setup Google Cloud project"
   ]
  },
  {
   "cell_type": "code",
   "execution_count": 2,
   "id": "c7e4712e",
   "metadata": {
    "tags": []
   },
   "outputs": [
    {
     "name": "stdout",
     "output_type": "stream",
     "text": [
      "Project ID: supply-chain-twin-349311\n",
      "Region: us-central1\n"
     ]
    }
   ],
   "source": [
    "PROJECT = 'supply-chain-twin-349311' # Change to your project id.\n",
    "REGION = 'us-central1' # Change to your region.\n",
    "\n",
    "if PROJECT == \"\" or PROJECT is None or PROJECT == \"[your-project-id]\":\n",
    "    # Get your GCP project id from gcloud\n",
    "    shell_output = !gcloud config list --format 'value(core.project)' 2>/dev/null\n",
    "    PROJECT = shell_output[0]\n",
    "    \n",
    "print(\"Project ID:\", PROJECT)\n",
    "print(\"Region:\", REGION)"
   ]
  },
  {
   "cell_type": "markdown",
   "id": "384a817b",
   "metadata": {},
   "source": [
    "### Set configurations"
   ]
  },
  {
   "cell_type": "code",
   "execution_count": 8,
   "id": "b71d0738",
   "metadata": {
    "tags": []
   },
   "outputs": [],
   "source": [
    "BQ_DATASET_NAME = 'chi_e2e' # Change to your BQ dataset name.\n",
    "BQ_TABLE_NAME = 'chicago_taxitrips_prep'\n",
    "BQ_LOCATION = 'US'\n",
    "\n",
    "DATASET_DISPLAY_NAME = 'chicago-taxi-tips'\n",
    "\n",
    "RAW_SCHEMA_DIR = 'src/raw_schema'"
   ]
  },
  {
   "cell_type": "markdown",
   "id": "39395512",
   "metadata": {},
   "source": [
    "## 1. Explore the data in BigQuery"
   ]
  },
  {
   "cell_type": "code",
   "execution_count": null,
   "id": "aa6518bf-9be7-49f7-9c71-f2f11b584eb5",
   "metadata": {
    "tags": []
   },
   "outputs": [],
   "source": [
    "pip install -U ipywidgets"
   ]
  },
  {
   "cell_type": "code",
   "execution_count": 4,
   "id": "9e4300d3",
   "metadata": {
    "tags": []
   },
   "outputs": [
    {
     "data": {
      "application/vnd.jupyter.widget-view+json": {
       "model_id": "d7fc1af7fa3d42e0b09798ed2bdb67de",
       "version_major": 2,
       "version_minor": 0
      },
      "text/plain": [
       "Query is running:   0%|          |"
      ]
     },
     "metadata": {},
     "output_type": "display_data"
    },
    {
     "data": {
      "application/vnd.jupyter.widget-view+json": {
       "model_id": "7ab2c93934c3405282e8347dc157ea86",
       "version_major": 2,
       "version_minor": 0
      },
      "text/plain": [
       "Downloading:   0%|          |"
      ]
     },
     "metadata": {},
     "output_type": "display_data"
    }
   ],
   "source": [
    "%%bigquery data\n",
    "\n",
    "SELECT \n",
    "    CAST(EXTRACT(DAYOFWEEK FROM trip_start_timestamp) AS string) AS trip_dayofweek, \n",
    "    FORMAT_DATE('%A',cast(trip_start_timestamp as date)) AS trip_dayname,\n",
    "    COUNT(*) as trip_count,\n",
    "FROM `bigquery-public-data.chicago_taxi_trips.taxi_trips`\n",
    "WHERE\n",
    "    EXTRACT(YEAR FROM trip_start_timestamp) = 2015 \n",
    "GROUP BY\n",
    "    trip_dayofweek,\n",
    "    trip_dayname\n",
    "ORDER BY\n",
    "    trip_dayofweek\n",
    ";"
   ]
  },
  {
   "cell_type": "code",
   "execution_count": 5,
   "id": "699804c5",
   "metadata": {
    "tags": []
   },
   "outputs": [
    {
     "data": {
      "text/html": [
       "<div>\n",
       "<style scoped>\n",
       "    .dataframe tbody tr th:only-of-type {\n",
       "        vertical-align: middle;\n",
       "    }\n",
       "\n",
       "    .dataframe tbody tr th {\n",
       "        vertical-align: top;\n",
       "    }\n",
       "\n",
       "    .dataframe thead th {\n",
       "        text-align: right;\n",
       "    }\n",
       "</style>\n",
       "<table border=\"1\" class=\"dataframe\">\n",
       "  <thead>\n",
       "    <tr style=\"text-align: right;\">\n",
       "      <th></th>\n",
       "      <th>trip_dayofweek</th>\n",
       "      <th>trip_dayname</th>\n",
       "      <th>trip_count</th>\n",
       "    </tr>\n",
       "  </thead>\n",
       "  <tbody>\n",
       "    <tr>\n",
       "      <th>0</th>\n",
       "      <td>1</td>\n",
       "      <td>Sunday</td>\n",
       "      <td>4141130</td>\n",
       "    </tr>\n",
       "    <tr>\n",
       "      <th>1</th>\n",
       "      <td>2</td>\n",
       "      <td>Monday</td>\n",
       "      <td>4105815</td>\n",
       "    </tr>\n",
       "    <tr>\n",
       "      <th>2</th>\n",
       "      <td>3</td>\n",
       "      <td>Tuesday</td>\n",
       "      <td>4378750</td>\n",
       "    </tr>\n",
       "    <tr>\n",
       "      <th>3</th>\n",
       "      <td>4</td>\n",
       "      <td>Wednesday</td>\n",
       "      <td>4542711</td>\n",
       "    </tr>\n",
       "    <tr>\n",
       "      <th>4</th>\n",
       "      <td>5</td>\n",
       "      <td>Thursday</td>\n",
       "      <td>4918158</td>\n",
       "    </tr>\n",
       "    <tr>\n",
       "      <th>5</th>\n",
       "      <td>6</td>\n",
       "      <td>Friday</td>\n",
       "      <td>5289798</td>\n",
       "    </tr>\n",
       "    <tr>\n",
       "      <th>6</th>\n",
       "      <td>7</td>\n",
       "      <td>Saturday</td>\n",
       "      <td>5009165</td>\n",
       "    </tr>\n",
       "  </tbody>\n",
       "</table>\n",
       "</div>"
      ],
      "text/plain": [
       "  trip_dayofweek trip_dayname  trip_count\n",
       "0              1       Sunday     4141130\n",
       "1              2       Monday     4105815\n",
       "2              3      Tuesday     4378750\n",
       "3              4    Wednesday     4542711\n",
       "4              5     Thursday     4918158\n",
       "5              6       Friday     5289798\n",
       "6              7     Saturday     5009165"
      ]
     },
     "execution_count": 5,
     "metadata": {},
     "output_type": "execute_result"
    }
   ],
   "source": [
    "data"
   ]
  },
  {
   "cell_type": "code",
   "execution_count": 6,
   "id": "a7f2447e",
   "metadata": {
    "tags": []
   },
   "outputs": [
    {
     "data": {
      "text/plain": [
       "<Axes: xlabel='trip_dayname'>"
      ]
     },
     "execution_count": 6,
     "metadata": {},
     "output_type": "execute_result"
    },
    {
     "data": {
      "image/png": "[encoded data removed]",
      "text/plain": [
       "<Figure size 640x480 with 1 Axes>"
      ]
     },
     "metadata": {},
     "output_type": "display_data"
    }
   ],
   "source": [
    "data.plot(kind='bar', x='trip_dayname', y='trip_count')"
   ]
  },
  {
   "cell_type": "markdown",
   "id": "a7782c69",
   "metadata": {},
   "source": [
    "## 2. Create data for the ML task\n",
    "\n",
    "We add a `ML_use` column for pre-splitting the data, where 80% of the datsa items are set to `UNASSIGNED` while the other 20% is set to `TEST`.\n",
    "\n",
    "This column is used during training to split the dataset for training and test.\n",
    "\n",
    "In the training phase, the `UNASSIGNED` are split into `train` and `eval`. The `TEST` split is will be used for the final model validation."
   ]
  },
  {
   "cell_type": "markdown",
   "id": "7987d132",
   "metadata": {},
   "source": [
    "### Create destination BigQuery dataset"
   ]
  },
  {
   "cell_type": "code",
   "execution_count": 9,
   "id": "56a7f6d6",
   "metadata": {
    "tags": []
   },
   "outputs": [
    {
     "name": "stdout",
     "output_type": "stream",
     "text": [
      "Dataset 'supply-chain-twin-349311:chi_e2e' successfully created.\n"
     ]
    }
   ],
   "source": [
    "!bq --location=$BQ_LOCATION mk -d \\\n",
    "$PROJECT:$BQ_DATASET_NAME"
   ]
  },
  {
   "cell_type": "code",
   "execution_count": 10,
   "id": "832f99ba",
   "metadata": {
    "tags": []
   },
   "outputs": [],
   "source": [
    "sample_size = 1000000\n",
    "year = 2019"
   ]
  },
  {
   "cell_type": "code",
   "execution_count": 11,
   "id": "1b19789f",
   "metadata": {
    "tags": []
   },
   "outputs": [],
   "source": [
    "sql_script = '''\n",
    "CREATE OR REPLACE TABLE `@PROJECT.@DATASET.@TABLE` \n",
    "AS (\n",
    "    WITH\n",
    "      taxitrips AS (\n",
    "      SELECT\n",
    "        trip_start_timestamp,\n",
    "        trip_seconds,\n",
    "        trip_miles,\n",
    "        payment_type,\n",
    "        pickup_longitude,\n",
    "        pickup_latitude,\n",
    "        dropoff_longitude,\n",
    "        dropoff_latitude,\n",
    "        tips,\n",
    "        fare\n",
    "      FROM\n",
    "        `bigquery-public-data.chicago_taxi_trips.taxi_trips`\n",
    "      WHERE 1=1 \n",
    "      AND pickup_longitude IS NOT NULL\n",
    "      AND pickup_latitude IS NOT NULL\n",
    "      AND dropoff_longitude IS NOT NULL\n",
    "      AND dropoff_latitude IS NOT NULL\n",
    "      AND trip_miles > 0\n",
    "      AND trip_seconds > 0\n",
    "      AND fare > 0\n",
    "      AND EXTRACT(YEAR FROM trip_start_timestamp) = @YEAR\n",
    "    )\n",
    "\n",
    "    SELECT\n",
    "      trip_start_timestamp,\n",
    "      EXTRACT(MONTH from trip_start_timestamp) as trip_month,\n",
    "      EXTRACT(DAY from trip_start_timestamp) as trip_day,\n",
    "      EXTRACT(DAYOFWEEK from trip_start_timestamp) as trip_day_of_week,\n",
    "      EXTRACT(HOUR from trip_start_timestamp) as trip_hour,\n",
    "      trip_seconds,\n",
    "      trip_miles,\n",
    "      payment_type,\n",
    "      ST_AsText(\n",
    "          ST_SnapToGrid(ST_GeogPoint(pickup_longitude, pickup_latitude), 0.1)\n",
    "      ) AS pickup_grid,\n",
    "      ST_AsText(\n",
    "          ST_SnapToGrid(ST_GeogPoint(dropoff_longitude, dropoff_latitude), 0.1)\n",
    "      ) AS dropoff_grid,\n",
    "      ST_Distance(\n",
    "          ST_GeogPoint(pickup_longitude, pickup_latitude), \n",
    "          ST_GeogPoint(dropoff_longitude, dropoff_latitude)\n",
    "      ) AS euclidean,\n",
    "      CONCAT(\n",
    "          ST_AsText(ST_SnapToGrid(ST_GeogPoint(pickup_longitude,\n",
    "              pickup_latitude), 0.1)), \n",
    "          ST_AsText(ST_SnapToGrid(ST_GeogPoint(dropoff_longitude,\n",
    "              dropoff_latitude), 0.1))\n",
    "      ) AS loc_cross,\n",
    "      IF((tips/fare >= 0.2), 1, 0) AS tip_bin,\n",
    "      IF(RAND() <= 0.8, 'UNASSIGNED', 'TEST') AS ML_use\n",
    "    FROM\n",
    "      taxitrips\n",
    "    LIMIT @LIMIT\n",
    ")\n",
    "'''"
   ]
  },
  {
   "cell_type": "code",
   "execution_count": 12,
   "id": "6f1d2837",
   "metadata": {
    "tags": []
   },
   "outputs": [],
   "source": [
    "sql_script = sql_script.replace(\n",
    "    '@PROJECT', PROJECT).replace(\n",
    "    '@DATASET', BQ_DATASET_NAME).replace(\n",
    "    '@TABLE', BQ_TABLE_NAME).replace(\n",
    "    '@YEAR', str(year)).replace(\n",
    "    '@LIMIT', str(sample_size))"
   ]
  },
  {
   "cell_type": "code",
   "execution_count": 13,
   "id": "27acb6b5",
   "metadata": {
    "tags": []
   },
   "outputs": [
    {
     "name": "stdout",
     "output_type": "stream",
     "text": [
      "\n",
      "CREATE OR REPLACE TABLE `supply-chain-twin-349311.chi_e2e.chicago_taxitrips_prep` \n",
      "AS (\n",
      "    WITH\n",
      "      taxitrips AS (\n",
      "      SELECT\n",
      "        trip_start_timestamp,\n",
      "        trip_seconds,\n",
      "        trip_miles,\n",
      "        payment_type,\n",
      "        pickup_longitude,\n",
      "        pickup_latitude,\n",
      "        dropoff_longitude,\n",
      "        dropoff_latitude,\n",
      "        tips,\n",
      "        fare\n",
      "      FROM\n",
      "        `bigquery-public-data.chicago_taxi_trips.taxi_trips`\n",
      "      WHERE 1=1 \n",
      "      AND pickup_longitude IS NOT NULL\n",
      "      AND pickup_latitude IS NOT NULL\n",
      "      AND dropoff_longitude IS NOT NULL\n",
      "      AND dropoff_latitude IS NOT NULL\n",
      "      AND trip_miles > 0\n",
      "      AND trip_seconds > 0\n",
      "      AND fare > 0\n",
      "      AND EXTRACT(YEAR FROM trip_start_timestamp) = 2019\n",
      "    )\n",
      "\n",
      "    SELECT\n",
      "      trip_start_timestamp,\n",
      "      EXTRACT(MONTH from trip_start_timestamp) as trip_month,\n",
      "      EXTRACT(DAY from trip_start_timestamp) as trip_day,\n",
      "      EXTRACT(DAYOFWEEK from trip_start_timestamp) as trip_day_of_week,\n",
      "      EXTRACT(HOUR from trip_start_timestamp) as trip_hour,\n",
      "      trip_seconds,\n",
      "      trip_miles,\n",
      "      payment_type,\n",
      "      ST_AsText(\n",
      "          ST_SnapToGrid(ST_GeogPoint(pickup_longitude, pickup_latitude), 0.1)\n",
      "      ) AS pickup_grid,\n",
      "      ST_AsText(\n",
      "          ST_SnapToGrid(ST_GeogPoint(dropoff_longitude, dropoff_latitude), 0.1)\n",
      "      ) AS dropoff_grid,\n",
      "      ST_Distance(\n",
      "          ST_GeogPoint(pickup_longitude, pickup_latitude), \n",
      "          ST_GeogPoint(dropoff_longitude, dropoff_latitude)\n",
      "      ) AS euclidean,\n",
      "      CONCAT(\n",
      "          ST_AsText(ST_SnapToGrid(ST_GeogPoint(pickup_longitude,\n",
      "              pickup_latitude), 0.1)), \n",
      "          ST_AsText(ST_SnapToGrid(ST_GeogPoint(dropoff_longitude,\n",
      "              dropoff_latitude), 0.1))\n",
      "      ) AS loc_cross,\n",
      "      IF((tips/fare >= 0.2), 1, 0) AS tip_bin,\n",
      "      IF(RAND() <= 0.8, 'UNASSIGNED', 'TEST') AS ML_use\n",
      "    FROM\n",
      "      taxitrips\n",
      "    LIMIT 1000000\n",
      ")\n",
      "\n"
     ]
    }
   ],
   "source": [
    "print(sql_script)"
   ]
  },
  {
   "cell_type": "code",
   "execution_count": 14,
   "id": "88f31e8c",
   "metadata": {
    "tags": []
   },
   "outputs": [],
   "source": [
    "bq_client = bigquery.Client(project=PROJECT, location=BQ_LOCATION)\n",
    "job = bq_client.query(sql_script)\n",
    "_ = job.result()"
   ]
  },
  {
   "cell_type": "code",
   "execution_count": 15,
   "id": "b32eea6f",
   "metadata": {
    "tags": []
   },
   "outputs": [
    {
     "data": {
      "application/vnd.jupyter.widget-view+json": {
       "model_id": "ab480019a46f47ac9c4bd805d73abf20",
       "version_major": 2,
       "version_minor": 0
      },
      "text/plain": [
       "Query is running:   0%|          |"
      ]
     },
     "metadata": {},
     "output_type": "display_data"
    },
    {
     "data": {
      "application/vnd.jupyter.widget-view+json": {
       "model_id": "9a96a8ebdfcb4938b077a3c92c71f088",
       "version_major": 2,
       "version_minor": 0
      },
      "text/plain": [
       "Downloading:   0%|          |"
      ]
     },
     "metadata": {},
     "output_type": "display_data"
    },
    {
     "data": {
      "text/html": [
       "<div>\n",
       "<style scoped>\n",
       "    .dataframe tbody tr th:only-of-type {\n",
       "        vertical-align: middle;\n",
       "    }\n",
       "\n",
       "    .dataframe tbody tr th {\n",
       "        vertical-align: top;\n",
       "    }\n",
       "\n",
       "    .dataframe thead th {\n",
       "        text-align: right;\n",
       "    }\n",
       "</style>\n",
       "<table border=\"1\" class=\"dataframe\">\n",
       "  <thead>\n",
       "    <tr style=\"text-align: right;\">\n",
       "      <th></th>\n",
       "      <th>ML_use</th>\n",
       "      <th>f0_</th>\n",
       "    </tr>\n",
       "  </thead>\n",
       "  <tbody>\n",
       "    <tr>\n",
       "      <th>0</th>\n",
       "      <td>UNASSIGNED</td>\n",
       "      <td>799925</td>\n",
       "    </tr>\n",
       "    <tr>\n",
       "      <th>1</th>\n",
       "      <td>TEST</td>\n",
       "      <td>200075</td>\n",
       "    </tr>\n",
       "  </tbody>\n",
       "</table>\n",
       "</div>"
      ],
      "text/plain": [
       "       ML_use     f0_\n",
       "0  UNASSIGNED  799925\n",
       "1        TEST  200075"
      ]
     },
     "execution_count": 15,
     "metadata": {},
     "output_type": "execute_result"
    }
   ],
   "source": [
    "%%bigquery --project {PROJECT}\n",
    "\n",
    "SELECT ML_use, COUNT(*)\n",
    "FROM chi_e2e.chicago_taxitrips_prep # Change to your BQ dataset and table names.\n",
    "GROUP BY ML_use"
   ]
  },
  {
   "cell_type": "markdown",
   "id": "7fcc75fc",
   "metadata": {},
   "source": [
    "### Load a sample data to a Pandas DataFrame"
   ]
  },
  {
   "cell_type": "code",
   "execution_count": 16,
   "id": "f252a846",
   "metadata": {
    "tags": []
   },
   "outputs": [
    {
     "data": {
      "application/vnd.jupyter.widget-view+json": {
       "model_id": "8842685188ff46f9bc28ad7e361dbbe7",
       "version_major": 2,
       "version_minor": 0
      },
      "text/plain": [
       "Query is running:   0%|          |"
      ]
     },
     "metadata": {},
     "output_type": "display_data"
    },
    {
     "data": {
      "application/vnd.jupyter.widget-view+json": {
       "model_id": "70050d86e6e542a89a07cb4a6332b9d0",
       "version_major": 2,
       "version_minor": 0
      },
      "text/plain": [
       "Downloading:   0%|          |"
      ]
     },
     "metadata": {},
     "output_type": "display_data"
    }
   ],
   "source": [
    "%%bigquery sample_data --project {PROJECT}\n",
    "\n",
    "SELECT * EXCEPT (trip_start_timestamp, ML_use)\n",
    "FROM chi_e2e.chicago_taxitrips_prep # Change to your BQ dataset and table names."
   ]
  },
  {
   "cell_type": "code",
   "execution_count": 17,
   "id": "798809d2",
   "metadata": {
    "tags": []
   },
   "outputs": [
    {
     "data": {
      "text/html": [
       "<div>\n",
       "<style scoped>\n",
       "    .dataframe tbody tr th:only-of-type {\n",
       "        vertical-align: middle;\n",
       "    }\n",
       "\n",
       "    .dataframe tbody tr th {\n",
       "        vertical-align: top;\n",
       "    }\n",
       "\n",
       "    .dataframe thead th {\n",
       "        text-align: right;\n",
       "    }\n",
       "</style>\n",
       "<table border=\"1\" class=\"dataframe\">\n",
       "  <thead>\n",
       "    <tr style=\"text-align: right;\">\n",
       "      <th></th>\n",
       "      <th>0</th>\n",
       "      <th>1</th>\n",
       "      <th>2</th>\n",
       "      <th>3</th>\n",
       "      <th>4</th>\n",
       "    </tr>\n",
       "  </thead>\n",
       "  <tbody>\n",
       "    <tr>\n",
       "      <th>trip_month</th>\n",
       "      <td>1</td>\n",
       "      <td>2</td>\n",
       "      <td>1</td>\n",
       "      <td>1</td>\n",
       "      <td>10</td>\n",
       "    </tr>\n",
       "    <tr>\n",
       "      <th>trip_day</th>\n",
       "      <td>3</td>\n",
       "      <td>8</td>\n",
       "      <td>17</td>\n",
       "      <td>9</td>\n",
       "      <td>30</td>\n",
       "    </tr>\n",
       "    <tr>\n",
       "      <th>trip_day_of_week</th>\n",
       "      <td>5</td>\n",
       "      <td>6</td>\n",
       "      <td>5</td>\n",
       "      <td>4</td>\n",
       "      <td>4</td>\n",
       "    </tr>\n",
       "    <tr>\n",
       "      <th>trip_hour</th>\n",
       "      <td>11</td>\n",
       "      <td>9</td>\n",
       "      <td>8</td>\n",
       "      <td>11</td>\n",
       "      <td>20</td>\n",
       "    </tr>\n",
       "    <tr>\n",
       "      <th>trip_seconds</th>\n",
       "      <td>180</td>\n",
       "      <td>141</td>\n",
       "      <td>120</td>\n",
       "      <td>420</td>\n",
       "      <td>335</td>\n",
       "    </tr>\n",
       "    <tr>\n",
       "      <th>trip_miles</th>\n",
       "      <td>0.7</td>\n",
       "      <td>1.4</td>\n",
       "      <td>0.6</td>\n",
       "      <td>0.5</td>\n",
       "      <td>0.96</td>\n",
       "    </tr>\n",
       "    <tr>\n",
       "      <th>payment_type</th>\n",
       "      <td>Cash</td>\n",
       "      <td>Cash</td>\n",
       "      <td>Credit Card</td>\n",
       "      <td>Cash</td>\n",
       "      <td>Cash</td>\n",
       "    </tr>\n",
       "    <tr>\n",
       "      <th>pickup_grid</th>\n",
       "      <td>POINT(-87.6 42)</td>\n",
       "      <td>POINT(-87.6 42)</td>\n",
       "      <td>POINT(-87.6 42)</td>\n",
       "      <td>POINT(-87.6 42)</td>\n",
       "      <td>POINT(-87.6 42)</td>\n",
       "    </tr>\n",
       "    <tr>\n",
       "      <th>dropoff_grid</th>\n",
       "      <td>POINT(-87.6 42)</td>\n",
       "      <td>POINT(-87.6 42)</td>\n",
       "      <td>POINT(-87.6 42)</td>\n",
       "      <td>POINT(-87.6 42)</td>\n",
       "      <td>POINT(-87.6 42)</td>\n",
       "    </tr>\n",
       "    <tr>\n",
       "      <th>euclidean</th>\n",
       "      <td>0.0</td>\n",
       "      <td>0.0</td>\n",
       "      <td>0.0</td>\n",
       "      <td>0.0</td>\n",
       "      <td>977.51726</td>\n",
       "    </tr>\n",
       "    <tr>\n",
       "      <th>loc_cross</th>\n",
       "      <td>POINT(-87.6 42)POINT(-87.6 42)</td>\n",
       "      <td>POINT(-87.6 42)POINT(-87.6 42)</td>\n",
       "      <td>POINT(-87.6 42)POINT(-87.6 42)</td>\n",
       "      <td>POINT(-87.6 42)POINT(-87.6 42)</td>\n",
       "      <td>POINT(-87.6 42)POINT(-87.6 42)</td>\n",
       "    </tr>\n",
       "    <tr>\n",
       "      <th>tip_bin</th>\n",
       "      <td>0</td>\n",
       "      <td>0</td>\n",
       "      <td>0</td>\n",
       "      <td>0</td>\n",
       "      <td>0</td>\n",
       "    </tr>\n",
       "  </tbody>\n",
       "</table>\n",
       "</div>"
      ],
      "text/plain": [
       "                                               0  \\\n",
       "trip_month                                     1   \n",
       "trip_day                                       3   \n",
       "trip_day_of_week                               5   \n",
       "trip_hour                                     11   \n",
       "trip_seconds                                 180   \n",
       "trip_miles                                   0.7   \n",
       "payment_type                                Cash   \n",
       "pickup_grid                      POINT(-87.6 42)   \n",
       "dropoff_grid                     POINT(-87.6 42)   \n",
       "euclidean                                    0.0   \n",
       "loc_cross         POINT(-87.6 42)POINT(-87.6 42)   \n",
       "tip_bin                                        0   \n",
       "\n",
       "                                               1  \\\n",
       "trip_month                                     2   \n",
       "trip_day                                       8   \n",
       "trip_day_of_week                               6   \n",
       "trip_hour                                      9   \n",
       "trip_seconds                                 141   \n",
       "trip_miles                                   1.4   \n",
       "payment_type                                Cash   \n",
       "pickup_grid                      POINT(-87.6 42)   \n",
       "dropoff_grid                     POINT(-87.6 42)   \n",
       "euclidean                                    0.0   \n",
       "loc_cross         POINT(-87.6 42)POINT(-87.6 42)   \n",
       "tip_bin                                        0   \n",
       "\n",
       "                                               2  \\\n",
       "trip_month                                     1   \n",
       "trip_day                                      17   \n",
       "trip_day_of_week                               5   \n",
       "trip_hour                                      8   \n",
       "trip_seconds                                 120   \n",
       "trip_miles                                   0.6   \n",
       "payment_type                         Credit Card   \n",
       "pickup_grid                      POINT(-87.6 42)   \n",
       "dropoff_grid                     POINT(-87.6 42)   \n",
       "euclidean                                    0.0   \n",
       "loc_cross         POINT(-87.6 42)POINT(-87.6 42)   \n",
       "tip_bin                                        0   \n",
       "\n",
       "                                               3  \\\n",
       "trip_month                                     1   \n",
       "trip_day                                       9   \n",
       "trip_day_of_week                               4   \n",
       "trip_hour                                     11   \n",
       "trip_seconds                                 420   \n",
       "trip_miles                                   0.5   \n",
       "payment_type                                Cash   \n",
       "pickup_grid                      POINT(-87.6 42)   \n",
       "dropoff_grid                     POINT(-87.6 42)   \n",
       "euclidean                                    0.0   \n",
       "loc_cross         POINT(-87.6 42)POINT(-87.6 42)   \n",
       "tip_bin                                        0   \n",
       "\n",
       "                                               4  \n",
       "trip_month                                    10  \n",
       "trip_day                                      30  \n",
       "trip_day_of_week                               4  \n",
       "trip_hour                                     20  \n",
       "trip_seconds                                 335  \n",
       "trip_miles                                  0.96  \n",
       "payment_type                                Cash  \n",
       "pickup_grid                      POINT(-87.6 42)  \n",
       "dropoff_grid                     POINT(-87.6 42)  \n",
       "euclidean                              977.51726  \n",
       "loc_cross         POINT(-87.6 42)POINT(-87.6 42)  \n",
       "tip_bin                                        0  "
      ]
     },
     "execution_count": 17,
     "metadata": {},
     "output_type": "execute_result"
    }
   ],
   "source": [
    "sample_data.head().T"
   ]
  },
  {
   "cell_type": "code",
   "execution_count": 18,
   "id": "23595838",
   "metadata": {
    "tags": []
   },
   "outputs": [
    {
     "data": {
      "text/plain": [
       "0    616520\n",
       "1    383480\n",
       "Name: tip_bin, dtype: Int64"
      ]
     },
     "execution_count": 18,
     "metadata": {},
     "output_type": "execute_result"
    }
   ],
   "source": [
    "sample_data.tip_bin.value_counts()"
   ]
  },
  {
   "cell_type": "code",
   "execution_count": 19,
   "id": "3d06bb64",
   "metadata": {
    "tags": []
   },
   "outputs": [
    {
     "data": {
      "text/plain": [
       "<Axes: >"
      ]
     },
     "execution_count": 19,
     "metadata": {},
     "output_type": "execute_result"
    },
    {
     "data": {
      "image/png": "[encoded data removed]",
      "text/plain": [
       "<Figure size 640x480 with 1 Axes>"
      ]
     },
     "metadata": {},
     "output_type": "display_data"
    }
   ],
   "source": [
    "sample_data.euclidean.hist()"
   ]
  },
  {
   "cell_type": "markdown",
   "id": "10aae180",
   "metadata": {},
   "source": [
    "## 3. Generate raw data schema\n",
    "\n",
    "The [TensorFlow Data Validation (TFDV)](https://www.tensorflow.org/tfx/data_validation/get_started) data schema will be used in:\n",
    "1. Identify the raw data types and shapes in the data transformation.\n",
    "2. Create the serving input signature for the custom model.\n",
    "3. Validate the new raw training data in the TFX pipeline."
   ]
  },
  {
   "cell_type": "code",
   "execution_count": 20,
   "id": "4087d5fa",
   "metadata": {
    "tags": []
   },
   "outputs": [],
   "source": [
    "stats = tfdv.generate_statistics_from_dataframe(\n",
    "    dataframe=sample_data,\n",
    "    stats_options=tfdv.StatsOptions(\n",
    "        label_feature='tip_bin',\n",
    "        weight_feature=None,\n",
    "        sample_rate=1,\n",
    "        num_top_values=50\n",
    "    )\n",
    ")"
   ]
  },
  {
   "cell_type": "code",
   "execution_count": 21,
   "id": "091fbd77",
   "metadata": {
    "tags": []
   },
   "outputs": [
    {
     "data": {
      "text/html": [
       "<iframe id='facets-iframe' width=\"100%\" height=\"500px\"></iframe>\n",
       "        <script>\n",
       "        facets_iframe = document.getElementById('facets-iframe');\n",
       "        facets_html = '<script src=\"https://cdnjs.cloudflare.com/ajax/libs/webcomponentsjs/1.3.3/webcomponents-lite.js\"><\\/script><link rel=\"import\" href=\"https://raw.githubusercontent.com/PAIR-code/facets/master/facets-dist/facets-jupyter.html\"><facets-overview proto-input=\"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\"></facets-overview>';\n",
       "        facets_iframe.srcdoc = facets_html;\n",
       "         facets_iframe.id = \"\";\n",
       "         setTimeout(() => {\n",
       "           facets_iframe.setAttribute('height', facets_iframe.contentWindow.document.body.offsetHeight + 'px')\n",
       "         }, 1500)\n",
       "         </script>"
      ],
      "text/plain": [
       "<IPython.core.display.HTML object>"
      ]
     },
     "metadata": {},
     "output_type": "display_data"
    }
   ],
   "source": [
    "tfdv.visualize_statistics(stats)"
   ]
  },
  {
   "cell_type": "code",
   "execution_count": 22,
   "id": "d251e09b",
   "metadata": {
    "tags": []
   },
   "outputs": [
    {
     "data": {
      "text/html": [
       "<div>\n",
       "<style scoped>\n",
       "    .dataframe tbody tr th:only-of-type {\n",
       "        vertical-align: middle;\n",
       "    }\n",
       "\n",
       "    .dataframe tbody tr th {\n",
       "        vertical-align: top;\n",
       "    }\n",
       "\n",
       "    .dataframe thead th {\n",
       "        text-align: right;\n",
       "    }\n",
       "</style>\n",
       "<table border=\"1\" class=\"dataframe\">\n",
       "  <thead>\n",
       "    <tr style=\"text-align: right;\">\n",
       "      <th></th>\n",
       "      <th>Type</th>\n",
       "      <th>Presence</th>\n",
       "      <th>Valency</th>\n",
       "      <th>Domain</th>\n",
       "    </tr>\n",
       "    <tr>\n",
       "      <th>Feature name</th>\n",
       "      <th></th>\n",
       "      <th></th>\n",
       "      <th></th>\n",
       "      <th></th>\n",
       "    </tr>\n",
       "  </thead>\n",
       "  <tbody>\n",
       "    <tr>\n",
       "      <th>'trip_month'</th>\n",
       "      <td>INT</td>\n",
       "      <td>required</td>\n",
       "      <td></td>\n",
       "      <td>-</td>\n",
       "    </tr>\n",
       "    <tr>\n",
       "      <th>'trip_day'</th>\n",
       "      <td>INT</td>\n",
       "      <td>required</td>\n",
       "      <td></td>\n",
       "      <td>-</td>\n",
       "    </tr>\n",
       "    <tr>\n",
       "      <th>'trip_day_of_week'</th>\n",
       "      <td>INT</td>\n",
       "      <td>required</td>\n",
       "      <td></td>\n",
       "      <td>-</td>\n",
       "    </tr>\n",
       "    <tr>\n",
       "      <th>'trip_hour'</th>\n",
       "      <td>INT</td>\n",
       "      <td>required</td>\n",
       "      <td></td>\n",
       "      <td>-</td>\n",
       "    </tr>\n",
       "    <tr>\n",
       "      <th>'trip_seconds'</th>\n",
       "      <td>INT</td>\n",
       "      <td>required</td>\n",
       "      <td></td>\n",
       "      <td>-</td>\n",
       "    </tr>\n",
       "    <tr>\n",
       "      <th>'trip_miles'</th>\n",
       "      <td>FLOAT</td>\n",
       "      <td>required</td>\n",
       "      <td></td>\n",
       "      <td>-</td>\n",
       "    </tr>\n",
       "    <tr>\n",
       "      <th>'payment_type'</th>\n",
       "      <td>STRING</td>\n",
       "      <td>required</td>\n",
       "      <td></td>\n",
       "      <td>'payment_type'</td>\n",
       "    </tr>\n",
       "    <tr>\n",
       "      <th>'pickup_grid'</th>\n",
       "      <td>STRING</td>\n",
       "      <td>required</td>\n",
       "      <td></td>\n",
       "      <td>'pickup_grid'</td>\n",
       "    </tr>\n",
       "    <tr>\n",
       "      <th>'dropoff_grid'</th>\n",
       "      <td>STRING</td>\n",
       "      <td>required</td>\n",
       "      <td></td>\n",
       "      <td>'dropoff_grid'</td>\n",
       "    </tr>\n",
       "    <tr>\n",
       "      <th>'euclidean'</th>\n",
       "      <td>FLOAT</td>\n",
       "      <td>required</td>\n",
       "      <td></td>\n",
       "      <td>-</td>\n",
       "    </tr>\n",
       "    <tr>\n",
       "      <th>'loc_cross'</th>\n",
       "      <td>BYTES</td>\n",
       "      <td>required</td>\n",
       "      <td></td>\n",
       "      <td>-</td>\n",
       "    </tr>\n",
       "    <tr>\n",
       "      <th>'tip_bin'</th>\n",
       "      <td>INT</td>\n",
       "      <td>required</td>\n",
       "      <td></td>\n",
       "      <td>-</td>\n",
       "    </tr>\n",
       "  </tbody>\n",
       "</table>\n",
       "</div>"
      ],
      "text/plain": [
       "                      Type  Presence Valency          Domain\n",
       "Feature name                                                \n",
       "'trip_month'           INT  required                       -\n",
       "'trip_day'             INT  required                       -\n",
       "'trip_day_of_week'     INT  required                       -\n",
       "'trip_hour'            INT  required                       -\n",
       "'trip_seconds'         INT  required                       -\n",
       "'trip_miles'         FLOAT  required                       -\n",
       "'payment_type'      STRING  required          'payment_type'\n",
       "'pickup_grid'       STRING  required           'pickup_grid'\n",
       "'dropoff_grid'      STRING  required          'dropoff_grid'\n",
       "'euclidean'          FLOAT  required                       -\n",
       "'loc_cross'          BYTES  required                       -\n",
       "'tip_bin'              INT  required                       -"
      ]
     },
     "metadata": {},
     "output_type": "display_data"
    },
    {
     "data": {
      "text/html": [
       "<div>\n",
       "<style scoped>\n",
       "    .dataframe tbody tr th:only-of-type {\n",
       "        vertical-align: middle;\n",
       "    }\n",
       "\n",
       "    .dataframe tbody tr th {\n",
       "        vertical-align: top;\n",
       "    }\n",
       "\n",
       "    .dataframe thead th {\n",
       "        text-align: right;\n",
       "    }\n",
       "</style>\n",
       "<table border=\"1\" class=\"dataframe\">\n",
       "  <thead>\n",
       "    <tr style=\"text-align: right;\">\n",
       "      <th></th>\n",
       "      <th>Values</th>\n",
       "    </tr>\n",
       "    <tr>\n",
       "      <th>Domain</th>\n",
       "      <th></th>\n",
       "    </tr>\n",
       "  </thead>\n",
       "  <tbody>\n",
       "    <tr>\n",
       "      <th>'payment_type'</th>\n",
       "      <td>'Cash', 'Credit Card', 'Dispute', 'Mobile', 'No Charge', 'Pcard', 'Prcard', 'Prepaid', 'Unknown'</td>\n",
       "    </tr>\n",
       "    <tr>\n",
       "      <th>'pickup_grid'</th>\n",
       "      <td>'POINT(-87.5 41.7)', 'POINT(-87.6 41.7)', 'POINT(-87.6 41.8)', 'POINT(-87.6 41.9)', 'POINT(-87.6 42)', 'POINT(-87.7 41.7)', 'POINT(-87.7 41.8)', 'POINT(-87.7 41.9)', 'POINT(-87.7 42)', 'POINT(-87.8 41.8)', 'POINT(-87.8 41.9)', 'POINT(-87.8 42)', 'POINT(-87.9 42)'</td>\n",
       "    </tr>\n",
       "    <tr>\n",
       "      <th>'dropoff_grid'</th>\n",
       "      <td>'POINT(-87.5 41.7)', 'POINT(-87.6 41.7)', 'POINT(-87.6 41.8)', 'POINT(-87.6 41.9)', 'POINT(-87.6 42)', 'POINT(-87.7 41.7)', 'POINT(-87.7 41.8)', 'POINT(-87.7 41.9)', 'POINT(-87.7 42)', 'POINT(-87.8 41.8)', 'POINT(-87.8 41.9)', 'POINT(-87.8 42)', 'POINT(-87.9 42)'</td>\n",
       "    </tr>\n",
       "  </tbody>\n",
       "</table>\n",
       "</div>"
      ],
      "text/plain": [
       "                                                                                                                                                                                                                                                                                 Values\n",
       "Domain                                                                                                                                                                                                                                                                                 \n",
       "'payment_type'                                                                                                                                                                         'Cash', 'Credit Card', 'Dispute', 'Mobile', 'No Charge', 'Pcard', 'Prcard', 'Prepaid', 'Unknown'\n",
       "'pickup_grid'   'POINT(-87.5 41.7)', 'POINT(-87.6 41.7)', 'POINT(-87.6 41.8)', 'POINT(-87.6 41.9)', 'POINT(-87.6 42)', 'POINT(-87.7 41.7)', 'POINT(-87.7 41.8)', 'POINT(-87.7 41.9)', 'POINT(-87.7 42)', 'POINT(-87.8 41.8)', 'POINT(-87.8 41.9)', 'POINT(-87.8 42)', 'POINT(-87.9 42)'\n",
       "'dropoff_grid'  'POINT(-87.5 41.7)', 'POINT(-87.6 41.7)', 'POINT(-87.6 41.8)', 'POINT(-87.6 41.9)', 'POINT(-87.6 42)', 'POINT(-87.7 41.7)', 'POINT(-87.7 41.8)', 'POINT(-87.7 41.9)', 'POINT(-87.7 42)', 'POINT(-87.8 41.8)', 'POINT(-87.8 41.9)', 'POINT(-87.8 42)', 'POINT(-87.9 42)'"
      ]
     },
     "metadata": {},
     "output_type": "display_data"
    }
   ],
   "source": [
    "schema = tfdv.infer_schema(statistics=stats)\n",
    "tfdv.display_schema(schema=schema)"
   ]
  },
  {
   "cell_type": "code",
   "execution_count": 23,
   "id": "502c49f1",
   "metadata": {
    "tags": []
   },
   "outputs": [],
   "source": [
    "raw_schema_location = os.path.join(RAW_SCHEMA_DIR, 'schema.pbtxt')\n",
    "tfdv.write_schema_text(schema, raw_schema_location)"
   ]
  },
  {
   "cell_type": "markdown",
   "id": "59df0723",
   "metadata": {},
   "source": [
    "## 4. Create Vertex Dataset resource"
   ]
  },
  {
   "cell_type": "code",
   "execution_count": 24,
   "id": "90d9b605",
   "metadata": {
    "tags": []
   },
   "outputs": [],
   "source": [
    "vertex_ai.init(\n",
    "    project=PROJECT,\n",
    "    location=REGION\n",
    ")"
   ]
  },
  {
   "cell_type": "markdown",
   "id": "464ab920",
   "metadata": {},
   "source": [
    "### Create the dataset resource"
   ]
  },
  {
   "cell_type": "code",
   "execution_count": 25,
   "id": "a0a1707a",
   "metadata": {
    "tags": []
   },
   "outputs": [
    {
     "name": "stdout",
     "output_type": "stream",
     "text": [
      "Creating TabularDataset\n",
      "Create TabularDataset backing LRO: projects/1049330678395/locations/us-central1/datasets/9067921983408177152/operations/4541193338673430528\n",
      "TabularDataset created. Resource name: projects/1049330678395/locations/us-central1/datasets/9067921983408177152\n",
      "To use this TabularDataset in another session:\n",
      "ds = aiplatform.TabularDataset('projects/1049330678395/locations/us-central1/datasets/9067921983408177152')\n"
     ]
    },
    {
     "data": {
      "text/plain": [
       "name: \"projects/1049330678395/locations/us-central1/datasets/9067921983408177152\"\n",
       "display_name: \"chicago-taxi-tips\"\n",
       "metadata_schema_uri: \"gs://google-cloud-aiplatform/schema/dataset/metadata/tabular_1.0.0.yaml\"\n",
       "create_time {\n",
       "  seconds: 1719242358\n",
       "  nanos: 361575000\n",
       "}\n",
       "update_time {\n",
       "  seconds: 1719242359\n",
       "  nanos: 880211000\n",
       "}\n",
       "etag: \"AMEw9yNqCWAy2GIUbHcN3OE-DuYhQDr4VIDuu1_u8Va19m0bCMNKJP59trWcEda-Vmkc\"\n",
       "metadata {\n",
       "  struct_value {\n",
       "    fields {\n",
       "      key: \"inputConfig\"\n",
       "      value {\n",
       "        struct_value {\n",
       "          fields {\n",
       "            key: \"bigquerySource\"\n",
       "            value {\n",
       "              struct_value {\n",
       "                fields {\n",
       "                  key: \"uri\"\n",
       "                  value {\n",
       "                    string_value: \"bq://supply-chain-twin-349311.chi_e2e.chicago_taxitrips_prep\"\n",
       "                  }\n",
       "                }\n",
       "              }\n",
       "            }\n",
       "          }\n",
       "        }\n",
       "      }\n",
       "    }\n",
       "  }\n",
       "}\n",
       "metadata_artifact: \"projects/1049330678395/locations/us-central1/metadataStores/default/artifacts/e43a4b2c-7c4b-4874-b78b-5c965f1e3713\""
      ]
     },
     "execution_count": 25,
     "metadata": {},
     "output_type": "execute_result"
    }
   ],
   "source": [
    "bq_uri = f\"bq://{PROJECT}.{BQ_DATASET_NAME}.{BQ_TABLE_NAME}\"\n",
    "\n",
    "dataset = vertex_ai.TabularDataset.create(\n",
    "    display_name=DATASET_DISPLAY_NAME, bq_source=bq_uri)\n",
    "\n",
    "dataset.gca_resource"
   ]
  },
  {
   "cell_type": "markdown",
   "id": "c761fadb",
   "metadata": {},
   "source": [
    "### Get the dataset resource\n",
    "\n",
    "The dataset resource is retrieved by display name. Because multiple datasets can have the same display name, we retrieve the most recent updated one."
   ]
  },
  {
   "cell_type": "code",
   "execution_count": 26,
   "id": "d78b7f4d",
   "metadata": {
    "tags": []
   },
   "outputs": [
    {
     "name": "stdout",
     "output_type": "stream",
     "text": [
      "Dataset resource name: projects/1049330678395/locations/us-central1/datasets/9067921983408177152\n",
      "Dataset BigQuery source: bq://supply-chain-twin-349311.chi_e2e.chicago_taxitrips_prep\n"
     ]
    }
   ],
   "source": [
    "dataset = vertex_ai.TabularDataset.list(\n",
    "    filter=f\"display_name={DATASET_DISPLAY_NAME}\", \n",
    "    order_by=\"update_time\")[-1]\n",
    "\n",
    "print(\"Dataset resource name:\", dataset.resource_name)\n",
    "print(\"Dataset BigQuery source:\", dataset.gca_resource.metadata['inputConfig']['bigquerySource']['uri'])"
   ]
  },
  {
   "cell_type": "code",
   "execution_count": null,
   "id": "569249de",
   "metadata": {},
   "outputs": [],
   "source": []
  }
 ],
 "metadata": {
  "environment": {
   "kernel": "python3",
   "name": "common-cpu.m122",
   "type": "gcloud",
   "uri": "us-docker.pkg.dev/deeplearning-platform-release/gcr.io/base-cpu:m122"
  },
  "kernelspec": {
   "display_name": "Python 3 (Local)",
   "language": "python",
   "name": "python3"
  },
  "language_info": {
   "codemirror_mode": {
    "name": "ipython",
    "version": 3
   },
   "file_extension": ".py",
   "mimetype": "text/x-python",
   "name": "python",
   "nbconvert_exporter": "python",
   "pygments_lexer": "ipython3",
   "version": "3.10.14"
  }
 },
 "nbformat": 4,
 "nbformat_minor": 5
}
